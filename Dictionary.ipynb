{
 "cells": [
  {
   "cell_type": "code",
   "execution_count": 64,
   "metadata": {},
   "outputs": [],
   "source": [
    "import nltk\n",
    "#nltk.download('words')\n",
    "from nltk.corpus import words\n",
    "\n",
    "def give_letter(*a):\n",
    "#    word_list = words.words()\n",
    "    file_path = './polish_a_words.txt'\n",
    "    with open(file_path, mode = 'rt', encoding = 'utf-8') as file:\n",
    "        word_list = file.read().lower()\n",
    "        \n",
    "    word_list = word_list.split('\\n')\n",
    "    give_letter = list(a)\n",
    "    len_give_letter = len(give_letter)\n",
    "    len_words_match = []\n",
    "    words_match = []\n",
    "    count = 0\n",
    "\n",
    "    for i in word_list:\n",
    "        if len(i) == len_give_letter:\n",
    "            len_words_match.append(i)      \n",
    "\n",
    "    for i in len_words_match:\n",
    "        count = 0\n",
    "        word = i\n",
    "        for j in give_letter:\n",
    "            if j in word:\n",
    "                count += 1\n",
    "                index = word.find(j)\n",
    "                word = list(word)\n",
    "                word[index] = ''\n",
    "                word = ''.join(word)\n",
    "            else:\n",
    "                break\n",
    "        if count == len_give_letter:\n",
    "            words_match.append(i)\n",
    "\n",
    "    return print(\"Z podanych liter można ułożyć słowa:\" '\\n', list(set(words_match)))"
   ]
  },
  {
   "cell_type": "code",
   "execution_count": 69,
   "metadata": {},
   "outputs": [
    {
     "name": "stdout",
     "output_type": "stream",
     "text": [
      "Z podanych liter można ułożyć słowa:\n",
      " ['abażury']\n"
     ]
    }
   ],
   "source": [
    "give_letter('y','a','b','ż','u','r','a')"
   ]
  },
  {
   "cell_type": "code",
   "execution_count": null,
   "metadata": {},
   "outputs": [],
   "source": []
  }
 ],
 "metadata": {
  "kernelspec": {
   "display_name": "Python 3",
   "language": "python",
   "name": "python3"
  },
  "language_info": {
   "codemirror_mode": {
    "name": "ipython",
    "version": 3
   },
   "file_extension": ".py",
   "mimetype": "text/x-python",
   "name": "python",
   "nbconvert_exporter": "python",
   "pygments_lexer": "ipython3",
   "version": "3.7.1"
  }
 },
 "nbformat": 4,
 "nbformat_minor": 2
}
