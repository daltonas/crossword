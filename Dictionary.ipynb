{
 "cells": [
  {
   "cell_type": "code",
   "execution_count": 107,
   "metadata": {},
   "outputs": [],
   "source": [
    "import nltk\n",
    "from nltk.corpus import words\n",
    "\n",
    "#nltk.download('words')\n",
    "\n",
    "def give_letter(*a):\n",
    "    word_list = words.words()\n",
    "    give_letter = list(a)\n",
    "    len_give_letter = len(give_letter)\n",
    "    len_words_match = []\n",
    "    words_match = []\n",
    "    count = 0\n",
    "\n",
    "    for i in word_list:\n",
    "        if len(i) == len_give_letter:\n",
    "            len_words_match.append(i)      \n",
    "\n",
    "    for i in len_words_match:\n",
    "        count = 0\n",
    "        word = i\n",
    "        for j in give_letter:\n",
    "            if j in word:\n",
    "                count += 1\n",
    "                index = word.find(j)\n",
    "                word = list(word)\n",
    "                word[index] = ''\n",
    "                word = ''.join(word)\n",
    "            else:\n",
    "                break\n",
    "        if count == len_give_letter:\n",
    "            words_match.append(i)\n",
    "\n",
    "    return print(\"Z podanych liter można ułożyć słowa:\" '\\n', list(set(words_match)))"
   ]
  },
  {
   "cell_type": "code",
   "execution_count": 112,
   "metadata": {},
   "outputs": [
    {
     "name": "stdout",
     "output_type": "stream",
     "text": [
      "Z podanych liter można ułożyć słowa:\n",
      " ['lodge']\n"
     ]
    }
   ],
   "source": [
    "give_letter('o','l','g','d','e')"
   ]
  },
  {
   "cell_type": "code",
   "execution_count": null,
   "metadata": {},
   "outputs": [],
   "source": []
  }
 ],
 "metadata": {
  "kernelspec": {
   "display_name": "Python 3",
   "language": "python",
   "name": "python3"
  },
  "language_info": {
   "codemirror_mode": {
    "name": "ipython",
    "version": 3
   },
   "file_extension": ".py",
   "mimetype": "text/x-python",
   "name": "python",
   "nbconvert_exporter": "python",
   "pygments_lexer": "ipython3",
   "version": "3.7.1"
  }
 },
 "nbformat": 4,
 "nbformat_minor": 2
}
